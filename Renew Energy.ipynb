{
 "cells": [
  {
   "cell_type": "code",
   "execution_count": 1,
   "metadata": {
    "_cell_guid": "b1076dfc-b9ad-4769-8c92-a6c4dae69d19",
    "_uuid": "8f2839f25d086af736a60e9eeb907d3b93b6e0e5",
    "execution": {
     "iopub.execute_input": "2022-09-04T09:49:02.545791Z",
     "iopub.status.busy": "2022-09-04T09:49:02.544894Z",
     "iopub.status.idle": "2022-09-04T09:49:03.425045Z",
     "shell.execute_reply": "2022-09-04T09:49:03.423936Z",
     "shell.execute_reply.started": "2022-09-04T09:49:02.545730Z"
    }
   },
   "outputs": [],
   "source": [
    "\n",
    "import numpy as np\n",
    "import pandas as pd\n",
    "import matplotlib.pyplot as plt\n",
    "import seaborn as sns\n",
    "sns.set()\n",
    "import statsmodels.api as sm\n",
    "import warnings\n",
    "warnings.filterwarnings('ignore')\n",
    "\n"
   ]
  },
  {
   "cell_type": "code",
   "execution_count": 2,
   "metadata": {
    "execution": {
     "iopub.execute_input": "2022-09-04T09:49:03.427993Z",
     "iopub.status.busy": "2022-09-04T09:49:03.427306Z",
     "iopub.status.idle": "2022-09-04T09:49:10.779210Z",
     "shell.execute_reply": "2022-09-04T09:49:10.777883Z",
     "shell.execute_reply.started": "2022-09-04T09:49:03.427942Z"
    }
   },
   "outputs": [],
   "source": [
    "train = pd.read_csv(r'C:\\Users\\DELL\\Downloads\\archive (5)\\train.csv')\n",
    "test = pd.read_csv(r'C:\\Users\\DELL\\Downloads\\archive (5)\\test.csv')"
   ]
  },
  {
   "cell_type": "code",
   "execution_count": 3,
   "metadata": {
    "execution": {
     "iopub.execute_input": "2022-09-04T09:49:10.781674Z",
     "iopub.status.busy": "2022-09-04T09:49:10.781148Z",
     "iopub.status.idle": "2022-09-04T09:49:10.793040Z",
     "shell.execute_reply": "2022-09-04T09:49:10.791711Z",
     "shell.execute_reply.started": "2022-09-04T09:49:10.781614Z"
    }
   },
   "outputs": [
    {
     "data": {
      "text/plain": [
       "((909604, 16), (303202, 15))"
      ]
     },
     "execution_count": 3,
     "metadata": {},
     "output_type": "execute_result"
    }
   ],
   "source": [
    "train.shape, test.shape"
   ]
  },
  {
   "cell_type": "code",
   "execution_count": 4,
   "metadata": {
    "execution": {
     "iopub.execute_input": "2022-09-04T09:49:10.796019Z",
     "iopub.status.busy": "2022-09-04T09:49:10.795597Z",
     "iopub.status.idle": "2022-09-04T09:49:10.828403Z",
     "shell.execute_reply": "2022-09-04T09:49:10.827149Z",
     "shell.execute_reply.started": "2022-09-04T09:49:10.795986Z"
    }
   },
   "outputs": [
    {
     "data": {
      "text/html": [
       "<div>\n",
       "<style scoped>\n",
       "    .dataframe tbody tr th:only-of-type {\n",
       "        vertical-align: middle;\n",
       "    }\n",
       "\n",
       "    .dataframe tbody tr th {\n",
       "        vertical-align: top;\n",
       "    }\n",
       "\n",
       "    .dataframe thead th {\n",
       "        text-align: right;\n",
       "    }\n",
       "</style>\n",
       "<table border=\"1\" class=\"dataframe\">\n",
       "  <thead>\n",
       "    <tr style=\"text-align: right;\">\n",
       "      <th></th>\n",
       "      <th>timestamp</th>\n",
       "      <th>active_power_calculated_by_converter</th>\n",
       "      <th>active_power_raw</th>\n",
       "      <th>ambient_temperature</th>\n",
       "      <th>generator_speed</th>\n",
       "      <th>generator_winding_temp_max</th>\n",
       "      <th>grid_power10min_average</th>\n",
       "      <th>nc1_inside_temp</th>\n",
       "      <th>nacelle_temp</th>\n",
       "      <th>reactice_power_calculated_by_converter</th>\n",
       "      <th>reactive_power</th>\n",
       "      <th>wind_direction_raw</th>\n",
       "      <th>wind_speed_raw</th>\n",
       "      <th>wind_speed_turbulence</th>\n",
       "      <th>turbine_id</th>\n",
       "    </tr>\n",
       "  </thead>\n",
       "  <tbody>\n",
       "    <tr>\n",
       "      <th>0</th>\n",
       "      <td>2021-05-06 15:02:00</td>\n",
       "      <td>15.507537</td>\n",
       "      <td>19.956882</td>\n",
       "      <td>40.233264</td>\n",
       "      <td>410.538834</td>\n",
       "      <td>57.357366</td>\n",
       "      <td>84.008399</td>\n",
       "      <td>48.826597</td>\n",
       "      <td>45.363477</td>\n",
       "      <td>2.419202</td>\n",
       "      <td>1.468876</td>\n",
       "      <td>156.399396</td>\n",
       "      <td>2.438629</td>\n",
       "      <td>0.790435</td>\n",
       "      <td>Turbine_14</td>\n",
       "    </tr>\n",
       "    <tr>\n",
       "      <th>1</th>\n",
       "      <td>2021-12-04 06:11:00</td>\n",
       "      <td>472.577255</td>\n",
       "      <td>478.373881</td>\n",
       "      <td>12.306687</td>\n",
       "      <td>965.077563</td>\n",
       "      <td>51.796727</td>\n",
       "      <td>492.531362</td>\n",
       "      <td>27.457511</td>\n",
       "      <td>24.045565</td>\n",
       "      <td>96.152070</td>\n",
       "      <td>119.378235</td>\n",
       "      <td>56.443802</td>\n",
       "      <td>5.900371</td>\n",
       "      <td>0.544198</td>\n",
       "      <td>Turbine_19</td>\n",
       "    </tr>\n",
       "    <tr>\n",
       "      <th>2</th>\n",
       "      <td>2021-08-31 19:03:00</td>\n",
       "      <td>447.829615</td>\n",
       "      <td>451.158264</td>\n",
       "      <td>29.106771</td>\n",
       "      <td>948.035899</td>\n",
       "      <td>60.493098</td>\n",
       "      <td>393.151576</td>\n",
       "      <td>39.410553</td>\n",
       "      <td>35.715697</td>\n",
       "      <td>90.251529</td>\n",
       "      <td>117.192635</td>\n",
       "      <td>224.540263</td>\n",
       "      <td>5.924923</td>\n",
       "      <td>0.513481</td>\n",
       "      <td>Turbine_14</td>\n",
       "    </tr>\n",
       "    <tr>\n",
       "      <th>3</th>\n",
       "      <td>2021-09-19 19:01:00</td>\n",
       "      <td>254.014336</td>\n",
       "      <td>249.438965</td>\n",
       "      <td>27.074900</td>\n",
       "      <td>804.963776</td>\n",
       "      <td>55.741899</td>\n",
       "      <td>178.715101</td>\n",
       "      <td>29.476841</td>\n",
       "      <td>31.151895</td>\n",
       "      <td>89.273838</td>\n",
       "      <td>105.086257</td>\n",
       "      <td>182.151426</td>\n",
       "      <td>4.409707</td>\n",
       "      <td>0.448881</td>\n",
       "      <td>Turbine_120</td>\n",
       "    </tr>\n",
       "    <tr>\n",
       "      <th>4</th>\n",
       "      <td>2021-04-04 02:21:00</td>\n",
       "      <td>1174.930566</td>\n",
       "      <td>1202.654077</td>\n",
       "      <td>32.148434</td>\n",
       "      <td>1199.754858</td>\n",
       "      <td>67.272313</td>\n",
       "      <td>1115.850317</td>\n",
       "      <td>31.920549</td>\n",
       "      <td>30.864277</td>\n",
       "      <td>189.731989</td>\n",
       "      <td>236.053320</td>\n",
       "      <td>261.672180</td>\n",
       "      <td>7.822326</td>\n",
       "      <td>0.561465</td>\n",
       "      <td>Turbine_158</td>\n",
       "    </tr>\n",
       "  </tbody>\n",
       "</table>\n",
       "</div>"
      ],
      "text/plain": [
       "             timestamp  active_power_calculated_by_converter  \\\n",
       "0  2021-05-06 15:02:00                             15.507537   \n",
       "1  2021-12-04 06:11:00                            472.577255   \n",
       "2  2021-08-31 19:03:00                            447.829615   \n",
       "3  2021-09-19 19:01:00                            254.014336   \n",
       "4  2021-04-04 02:21:00                           1174.930566   \n",
       "\n",
       "   active_power_raw  ambient_temperature  generator_speed  \\\n",
       "0         19.956882            40.233264       410.538834   \n",
       "1        478.373881            12.306687       965.077563   \n",
       "2        451.158264            29.106771       948.035899   \n",
       "3        249.438965            27.074900       804.963776   \n",
       "4       1202.654077            32.148434      1199.754858   \n",
       "\n",
       "   generator_winding_temp_max  grid_power10min_average  nc1_inside_temp  \\\n",
       "0                   57.357366                84.008399        48.826597   \n",
       "1                   51.796727               492.531362        27.457511   \n",
       "2                   60.493098               393.151576        39.410553   \n",
       "3                   55.741899               178.715101        29.476841   \n",
       "4                   67.272313              1115.850317        31.920549   \n",
       "\n",
       "   nacelle_temp  reactice_power_calculated_by_converter  reactive_power  \\\n",
       "0     45.363477                                2.419202        1.468876   \n",
       "1     24.045565                               96.152070      119.378235   \n",
       "2     35.715697                               90.251529      117.192635   \n",
       "3     31.151895                               89.273838      105.086257   \n",
       "4     30.864277                              189.731989      236.053320   \n",
       "\n",
       "   wind_direction_raw  wind_speed_raw  wind_speed_turbulence   turbine_id  \n",
       "0          156.399396        2.438629               0.790435   Turbine_14  \n",
       "1           56.443802        5.900371               0.544198   Turbine_19  \n",
       "2          224.540263        5.924923               0.513481   Turbine_14  \n",
       "3          182.151426        4.409707               0.448881  Turbine_120  \n",
       "4          261.672180        7.822326               0.561465  Turbine_158  "
      ]
     },
     "execution_count": 4,
     "metadata": {},
     "output_type": "execute_result"
    }
   ],
   "source": [
    "test.head()"
   ]
  },
  {
   "cell_type": "code",
   "execution_count": 5,
   "metadata": {
    "execution": {
     "iopub.execute_input": "2022-09-04T09:49:10.830691Z",
     "iopub.status.busy": "2022-09-04T09:49:10.830326Z",
     "iopub.status.idle": "2022-09-04T09:49:14.841661Z",
     "shell.execute_reply": "2022-09-04T09:49:14.840242Z",
     "shell.execute_reply.started": "2022-09-04T09:49:10.830654Z"
    }
   },
   "outputs": [
    {
     "data": {
      "image/png": "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\n",
      "text/plain": [
       "<Figure size 432x288 with 1 Axes>"
      ]
     },
     "metadata": {},
     "output_type": "display_data"
    }
   ],
   "source": [
    "sns.distplot(train['Target'])\n",
    "plt.show()"
   ]
  },
  {
   "cell_type": "code",
   "execution_count": 6,
   "metadata": {
    "execution": {
     "iopub.execute_input": "2022-09-04T09:49:14.843295Z",
     "iopub.status.busy": "2022-09-04T09:49:14.842965Z",
     "iopub.status.idle": "2022-09-04T09:49:17.159283Z",
     "shell.execute_reply": "2022-09-04T09:49:17.158029Z",
     "shell.execute_reply.started": "2022-09-04T09:49:14.843265Z"
    }
   },
   "outputs": [
    {
     "data": {
      "image/png": "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\n",
      "text/plain": [
       "<Figure size 432x288 with 16 Axes>"
      ]
     },
     "metadata": {},
     "output_type": "display_data"
    }
   ],
   "source": [
    "train.hist()\n",
    "plt.show()"
   ]
  },
  {
   "cell_type": "code",
   "execution_count": 7,
   "metadata": {
    "execution": {
     "iopub.execute_input": "2022-09-04T09:49:17.161979Z",
     "iopub.status.busy": "2022-09-04T09:49:17.161195Z",
     "iopub.status.idle": "2022-09-04T09:49:18.786039Z",
     "shell.execute_reply": "2022-09-04T09:49:18.784949Z",
     "shell.execute_reply.started": "2022-09-04T09:49:17.161941Z"
    }
   },
   "outputs": [],
   "source": [
    "train['day'] = pd.DatetimeIndex(train.timestamp).day\n",
    "train['month'] = pd.DatetimeIndex(train.timestamp).month\n",
    "train['year'] = pd.DatetimeIndex(train.timestamp).year\n",
    "train['hour'] = pd.DatetimeIndex(train.timestamp).hour\n",
    "train['minute'] = pd.DatetimeIndex(train.timestamp).minute\n",
    "train['weekday'] = pd.DatetimeIndex(train.timestamp).weekday"
   ]
  },
  {
   "cell_type": "code",
   "execution_count": 8,
   "metadata": {
    "execution": {
     "iopub.execute_input": "2022-09-04T09:49:18.787830Z",
     "iopub.status.busy": "2022-09-04T09:49:18.787456Z",
     "iopub.status.idle": "2022-09-04T09:49:19.356325Z",
     "shell.execute_reply": "2022-09-04T09:49:19.355152Z",
     "shell.execute_reply.started": "2022-09-04T09:49:18.787768Z"
    }
   },
   "outputs": [],
   "source": [
    "test['day'] = pd.DatetimeIndex(test.timestamp).day\n",
    "test['month'] = pd.DatetimeIndex(test.timestamp).month\n",
    "test['year'] = pd.DatetimeIndex(test.timestamp).year\n",
    "test['hour'] = pd.DatetimeIndex(test.timestamp).hour\n",
    "test['minute'] = pd.DatetimeIndex(test.timestamp).minute\n",
    "test['weekday'] = pd.DatetimeIndex(test.timestamp).weekday"
   ]
  },
  {
   "cell_type": "code",
   "execution_count": 9,
   "metadata": {
    "execution": {
     "iopub.execute_input": "2022-09-04T09:49:19.358378Z",
     "iopub.status.busy": "2022-09-04T09:49:19.357990Z",
     "iopub.status.idle": "2022-09-04T09:49:19.493544Z",
     "shell.execute_reply": "2022-09-04T09:49:19.492532Z",
     "shell.execute_reply.started": "2022-09-04T09:49:19.358341Z"
    }
   },
   "outputs": [],
   "source": [
    "new_train = train.drop(['timestamp','year','turbine_id','Target'], axis=1)\n",
    "target = train.Target\n",
    "\n",
    "test.drop(['timestamp','year'], axis=1, inplace=True)"
   ]
  },
  {
   "cell_type": "code",
   "execution_count": 10,
   "metadata": {
    "execution": {
     "iopub.execute_input": "2022-09-04T09:49:19.497528Z",
     "iopub.status.busy": "2022-09-04T09:49:19.497184Z",
     "iopub.status.idle": "2022-09-04T09:49:19.525251Z",
     "shell.execute_reply": "2022-09-04T09:49:19.524139Z",
     "shell.execute_reply.started": "2022-09-04T09:49:19.497498Z"
    }
   },
   "outputs": [],
   "source": [
    "# Active Power\n",
    "\n",
    "new_train['diff_active_power'] = new_train['active_power_raw'] - new_train['active_power_calculated_by_converter']\n",
    "test['diff_active_power'] = test['active_power_raw'] - test['active_power_calculated_by_converter']\n",
    "\n",
    "# Nacelle Temp\n",
    "\n",
    "new_train['diff_nacelle'] = new_train['nacelle_temp'] - new_train['nc1_inside_temp']\n",
    "test['diff_nacelle'] = test['nacelle_temp'] - test['nc1_inside_temp']\n",
    "\n",
    "# Reactive Power\n",
    "\n",
    "new_train['diff_react'] = new_train['reactive_power'] - new_train['reactice_power_calculated_by_converter']\n",
    "test['diff_react'] = test['reactive_power'] - test['reactice_power_calculated_by_converter']"
   ]
  },
  {
   "cell_type": "code",
   "execution_count": 11,
   "metadata": {
    "execution": {
     "iopub.execute_input": "2022-09-04T09:49:19.526745Z",
     "iopub.status.busy": "2022-09-04T09:49:19.526423Z",
     "iopub.status.idle": "2022-09-04T09:49:19.552441Z",
     "shell.execute_reply": "2022-09-04T09:49:19.551154Z",
     "shell.execute_reply.started": "2022-09-04T09:49:19.526717Z"
    }
   },
   "outputs": [
    {
     "data": {
      "text/html": [
       "<div>\n",
       "<style scoped>\n",
       "    .dataframe tbody tr th:only-of-type {\n",
       "        vertical-align: middle;\n",
       "    }\n",
       "\n",
       "    .dataframe tbody tr th {\n",
       "        vertical-align: top;\n",
       "    }\n",
       "\n",
       "    .dataframe thead th {\n",
       "        text-align: right;\n",
       "    }\n",
       "</style>\n",
       "<table border=\"1\" class=\"dataframe\">\n",
       "  <thead>\n",
       "    <tr style=\"text-align: right;\">\n",
       "      <th></th>\n",
       "      <th>active_power_calculated_by_converter</th>\n",
       "      <th>active_power_raw</th>\n",
       "      <th>ambient_temperature</th>\n",
       "      <th>generator_speed</th>\n",
       "      <th>generator_winding_temp_max</th>\n",
       "      <th>grid_power10min_average</th>\n",
       "      <th>nc1_inside_temp</th>\n",
       "      <th>nacelle_temp</th>\n",
       "      <th>reactice_power_calculated_by_converter</th>\n",
       "      <th>reactive_power</th>\n",
       "      <th>...</th>\n",
       "      <th>wind_speed_raw</th>\n",
       "      <th>wind_speed_turbulence</th>\n",
       "      <th>day</th>\n",
       "      <th>month</th>\n",
       "      <th>hour</th>\n",
       "      <th>minute</th>\n",
       "      <th>weekday</th>\n",
       "      <th>diff_active_power</th>\n",
       "      <th>diff_nacelle</th>\n",
       "      <th>diff_react</th>\n",
       "    </tr>\n",
       "  </thead>\n",
       "  <tbody>\n",
       "    <tr>\n",
       "      <th>0</th>\n",
       "      <td>816.636759</td>\n",
       "      <td>834.917206</td>\n",
       "      <td>31.694380</td>\n",
       "      <td>1159.616602</td>\n",
       "      <td>65.954214</td>\n",
       "      <td>917.897085</td>\n",
       "      <td>31.881972</td>\n",
       "      <td>31.504713</td>\n",
       "      <td>141.457644</td>\n",
       "      <td>165.501518</td>\n",
       "      <td>...</td>\n",
       "      <td>7.057000</td>\n",
       "      <td>0.544082</td>\n",
       "      <td>19</td>\n",
       "      <td>2</td>\n",
       "      <td>20</td>\n",
       "      <td>18</td>\n",
       "      <td>4</td>\n",
       "      <td>18.280446</td>\n",
       "      <td>-0.377259</td>\n",
       "      <td>24.043874</td>\n",
       "    </tr>\n",
       "    <tr>\n",
       "      <th>1</th>\n",
       "      <td>419.107829</td>\n",
       "      <td>421.050873</td>\n",
       "      <td>12.894948</td>\n",
       "      <td>928.747996</td>\n",
       "      <td>59.571319</td>\n",
       "      <td>445.554250</td>\n",
       "      <td>32.423705</td>\n",
       "      <td>32.755770</td>\n",
       "      <td>89.186457</td>\n",
       "      <td>113.835236</td>\n",
       "      <td>...</td>\n",
       "      <td>5.474937</td>\n",
       "      <td>0.469031</td>\n",
       "      <td>27</td>\n",
       "      <td>4</td>\n",
       "      <td>4</td>\n",
       "      <td>55</td>\n",
       "      <td>1</td>\n",
       "      <td>1.943044</td>\n",
       "      <td>0.332065</td>\n",
       "      <td>24.648778</td>\n",
       "    </tr>\n",
       "    <tr>\n",
       "      <th>2</th>\n",
       "      <td>1303.530558</td>\n",
       "      <td>1337.566142</td>\n",
       "      <td>16.648388</td>\n",
       "      <td>1201.219775</td>\n",
       "      <td>61.270498</td>\n",
       "      <td>1364.716003</td>\n",
       "      <td>11.446849</td>\n",
       "      <td>18.332985</td>\n",
       "      <td>230.622309</td>\n",
       "      <td>281.452253</td>\n",
       "      <td>...</td>\n",
       "      <td>8.092457</td>\n",
       "      <td>0.622318</td>\n",
       "      <td>25</td>\n",
       "      <td>1</td>\n",
       "      <td>6</td>\n",
       "      <td>26</td>\n",
       "      <td>0</td>\n",
       "      <td>34.035583</td>\n",
       "      <td>6.886136</td>\n",
       "      <td>50.829943</td>\n",
       "    </tr>\n",
       "    <tr>\n",
       "      <th>3</th>\n",
       "      <td>61.494872</td>\n",
       "      <td>53.481008</td>\n",
       "      <td>28.388141</td>\n",
       "      <td>769.806122</td>\n",
       "      <td>40.674348</td>\n",
       "      <td>14.324897</td>\n",
       "      <td>34.253204</td>\n",
       "      <td>32.662889</td>\n",
       "      <td>66.211015</td>\n",
       "      <td>75.017531</td>\n",
       "      <td>...</td>\n",
       "      <td>4.071032</td>\n",
       "      <td>0.760719</td>\n",
       "      <td>30</td>\n",
       "      <td>10</td>\n",
       "      <td>3</td>\n",
       "      <td>47</td>\n",
       "      <td>5</td>\n",
       "      <td>-8.013865</td>\n",
       "      <td>-1.590315</td>\n",
       "      <td>8.806516</td>\n",
       "    </tr>\n",
       "    <tr>\n",
       "      <th>4</th>\n",
       "      <td>593.514364</td>\n",
       "      <td>611.659108</td>\n",
       "      <td>31.519527</td>\n",
       "      <td>1046.916768</td>\n",
       "      <td>64.341763</td>\n",
       "      <td>599.020172</td>\n",
       "      <td>32.405586</td>\n",
       "      <td>31.466387</td>\n",
       "      <td>137.163938</td>\n",
       "      <td>160.202421</td>\n",
       "      <td>...</td>\n",
       "      <td>6.357943</td>\n",
       "      <td>0.346068</td>\n",
       "      <td>15</td>\n",
       "      <td>3</td>\n",
       "      <td>0</td>\n",
       "      <td>39</td>\n",
       "      <td>0</td>\n",
       "      <td>18.144745</td>\n",
       "      <td>-0.939198</td>\n",
       "      <td>23.038483</td>\n",
       "    </tr>\n",
       "  </tbody>\n",
       "</table>\n",
       "<p>5 rows × 21 columns</p>\n",
       "</div>"
      ],
      "text/plain": [
       "   active_power_calculated_by_converter  active_power_raw  \\\n",
       "0                            816.636759        834.917206   \n",
       "1                            419.107829        421.050873   \n",
       "2                           1303.530558       1337.566142   \n",
       "3                             61.494872         53.481008   \n",
       "4                            593.514364        611.659108   \n",
       "\n",
       "   ambient_temperature  generator_speed  generator_winding_temp_max  \\\n",
       "0            31.694380      1159.616602                   65.954214   \n",
       "1            12.894948       928.747996                   59.571319   \n",
       "2            16.648388      1201.219775                   61.270498   \n",
       "3            28.388141       769.806122                   40.674348   \n",
       "4            31.519527      1046.916768                   64.341763   \n",
       "\n",
       "   grid_power10min_average  nc1_inside_temp  nacelle_temp  \\\n",
       "0               917.897085        31.881972     31.504713   \n",
       "1               445.554250        32.423705     32.755770   \n",
       "2              1364.716003        11.446849     18.332985   \n",
       "3                14.324897        34.253204     32.662889   \n",
       "4               599.020172        32.405586     31.466387   \n",
       "\n",
       "   reactice_power_calculated_by_converter  reactive_power  ...  \\\n",
       "0                              141.457644      165.501518  ...   \n",
       "1                               89.186457      113.835236  ...   \n",
       "2                              230.622309      281.452253  ...   \n",
       "3                               66.211015       75.017531  ...   \n",
       "4                              137.163938      160.202421  ...   \n",
       "\n",
       "   wind_speed_raw  wind_speed_turbulence  day  month  hour  minute  weekday  \\\n",
       "0        7.057000               0.544082   19      2    20      18        4   \n",
       "1        5.474937               0.469031   27      4     4      55        1   \n",
       "2        8.092457               0.622318   25      1     6      26        0   \n",
       "3        4.071032               0.760719   30     10     3      47        5   \n",
       "4        6.357943               0.346068   15      3     0      39        0   \n",
       "\n",
       "   diff_active_power  diff_nacelle  diff_react  \n",
       "0          18.280446     -0.377259   24.043874  \n",
       "1           1.943044      0.332065   24.648778  \n",
       "2          34.035583      6.886136   50.829943  \n",
       "3          -8.013865     -1.590315    8.806516  \n",
       "4          18.144745     -0.939198   23.038483  \n",
       "\n",
       "[5 rows x 21 columns]"
      ]
     },
     "execution_count": 11,
     "metadata": {},
     "output_type": "execute_result"
    }
   ],
   "source": [
    "new_train.head()"
   ]
  },
  {
   "cell_type": "code",
   "execution_count": 12,
   "metadata": {
    "execution": {
     "iopub.execute_input": "2022-09-04T09:49:19.554347Z",
     "iopub.status.busy": "2022-09-04T09:49:19.553764Z",
     "iopub.status.idle": "2022-09-04T09:49:20.963629Z",
     "shell.execute_reply": "2022-09-04T09:49:20.962560Z",
     "shell.execute_reply.started": "2022-09-04T09:49:19.554311Z"
    }
   },
   "outputs": [],
   "source": [
    "from sklearn.ensemble import RandomForestRegressor, ExtraTreesRegressor\n",
    "from lightgbm import LGBMRegressor\n",
    "from xgboost import XGBRegressor\n",
    "import catboost as cboost"
   ]
  },
  {
   "cell_type": "code",
   "execution_count": 13,
   "metadata": {
    "execution": {
     "iopub.execute_input": "2022-09-04T09:49:20.977551Z",
     "iopub.status.busy": "2022-09-04T09:49:20.976701Z",
     "iopub.status.idle": "2022-09-04T09:49:20.985905Z",
     "shell.execute_reply": "2022-09-04T09:49:20.984842Z",
     "shell.execute_reply.started": "2022-09-04T09:49:20.977514Z"
    }
   },
   "outputs": [],
   "source": [
    "# Fit and Predict\n",
    "# pred_rf = rf.fit(new_train, target).predict(test.drop('turbine_id', axis=1))"
   ]
  },
  {
   "cell_type": "code",
   "execution_count": 14,
   "metadata": {
    "execution": {
     "iopub.execute_input": "2022-09-04T09:49:20.988182Z",
     "iopub.status.busy": "2022-09-04T09:49:20.987506Z",
     "iopub.status.idle": "2022-09-04T09:49:21.086296Z",
     "shell.execute_reply": "2022-09-04T09:49:21.084573Z",
     "shell.execute_reply.started": "2022-09-04T09:49:20.988146Z"
    }
   },
   "outputs": [],
   "source": [
    " # pred_rf"
   ]
  },
  {
   "cell_type": "code",
   "execution_count": null,
   "metadata": {},
   "outputs": [],
   "source": []
  },
  {
   "cell_type": "code",
   "execution_count": 15,
   "metadata": {
    "execution": {
     "iopub.execute_input": "2022-09-04T09:49:41.108487Z",
     "iopub.status.busy": "2022-09-04T09:49:41.107995Z",
     "iopub.status.idle": "2022-09-04T09:49:41.116600Z",
     "shell.execute_reply": "2022-09-04T09:49:41.115167Z",
     "shell.execute_reply.started": "2022-09-04T09:49:41.108447Z"
    }
   },
   "outputs": [
    {
     "data": {
      "text/plain": [
       "Index(['active_power_calculated_by_converter', 'active_power_raw',\n",
       "       'ambient_temperature', 'generator_speed', 'generator_winding_temp_max',\n",
       "       'grid_power10min_average', 'nc1_inside_temp', 'nacelle_temp',\n",
       "       'reactice_power_calculated_by_converter', 'reactive_power',\n",
       "       'wind_direction_raw', 'wind_speed_raw', 'wind_speed_turbulence', 'day',\n",
       "       'month', 'hour', 'minute', 'weekday', 'diff_active_power',\n",
       "       'diff_nacelle', 'diff_react'],\n",
       "      dtype='object')"
      ]
     },
     "execution_count": 15,
     "metadata": {},
     "output_type": "execute_result"
    }
   ],
   "source": [
    "new_train.columns"
   ]
  },
  {
   "cell_type": "code",
   "execution_count": 16,
   "metadata": {
    "execution": {
     "iopub.execute_input": "2022-09-04T09:49:43.711969Z",
     "iopub.status.busy": "2022-09-04T09:49:43.711507Z",
     "iopub.status.idle": "2022-09-04T09:49:43.718410Z",
     "shell.execute_reply": "2022-09-04T09:49:43.716985Z",
     "shell.execute_reply.started": "2022-09-04T09:49:43.711931Z"
    }
   },
   "outputs": [],
   "source": [
    "features = ['active_power_calculated_by_converter', 'active_power_raw',\n",
    "       'ambient_temperature', 'generator_speed', 'generator_winding_temp_max',\n",
    "       'grid_power10min_average', 'nc1_inside_temp', 'nacelle_temp',\n",
    "       'reactice_power_calculated_by_converter', 'reactive_power',\n",
    "       'wind_direction_raw', 'wind_speed_raw', 'wind_speed_turbulence', 'day',\n",
    "       'month', 'hour', 'minute', 'weekday', 'diff_active_power',\n",
    "       'diff_nacelle', 'diff_react']"
   ]
  },
  {
   "cell_type": "code",
   "execution_count": 17,
   "metadata": {
    "execution": {
     "iopub.execute_input": "2022-09-04T09:49:45.886053Z",
     "iopub.status.busy": "2022-09-04T09:49:45.884844Z",
     "iopub.status.idle": "2022-09-04T09:49:52.263501Z",
     "shell.execute_reply": "2022-09-04T09:49:52.262315Z",
     "shell.execute_reply.started": "2022-09-04T09:49:45.886010Z"
    }
   },
   "outputs": [],
   "source": [
    "# Log Transformation\n",
    "\n",
    "for i in features:\n",
    "    new_train[i] = new_train[i].apply(lambda col:0.000001 if col<=0 else col)\n",
    "    new_train[i] = np.log(new_train[i])\n"
   ]
  },
  {
   "cell_type": "code",
   "execution_count": 18,
   "metadata": {
    "execution": {
     "iopub.execute_input": "2022-09-04T09:49:53.645291Z",
     "iopub.status.busy": "2022-09-04T09:49:53.644505Z",
     "iopub.status.idle": "2022-09-04T09:49:55.746706Z",
     "shell.execute_reply": "2022-09-04T09:49:55.745112Z",
     "shell.execute_reply.started": "2022-09-04T09:49:53.645251Z"
    }
   },
   "outputs": [],
   "source": [
    "for i in features:\n",
    "    test[i] = test[i].apply(lambda col:0.000001 if col<=0 else col)\n",
    "    test[i] = np.log(test[i])"
   ]
  },
  {
   "cell_type": "code",
   "execution_count": 19,
   "metadata": {
    "execution": {
     "iopub.execute_input": "2022-09-04T09:49:57.598387Z",
     "iopub.status.busy": "2022-09-04T09:49:57.597962Z",
     "iopub.status.idle": "2022-09-04T09:49:57.685298Z",
     "shell.execute_reply": "2022-09-04T09:49:57.684092Z",
     "shell.execute_reply.started": "2022-09-04T09:49:57.598349Z"
    }
   },
   "outputs": [
    {
     "data": {
      "text/plain": [
       "array(['Turbine_108', 'Turbine_18', 'Turbine_105', 'Turbine_15',\n",
       "       'Turbine_01', 'Turbine_14', 'Turbine_10', 'Turbine_103',\n",
       "       'Turbine_123', 'Turbine_120', 'Turbine_139', 'Turbine_97',\n",
       "       'Turbine_19', 'Turbine_20', 'Turbine_13', 'Turbine_158'],\n",
       "      dtype=object)"
      ]
     },
     "execution_count": 19,
     "metadata": {},
     "output_type": "execute_result"
    }
   ],
   "source": [
    "# Turbine ID\n",
    "train.turbine_id.unique()"
   ]
  },
  {
   "cell_type": "code",
   "execution_count": 20,
   "metadata": {
    "execution": {
     "iopub.execute_input": "2022-09-04T09:49:59.176675Z",
     "iopub.status.busy": "2022-09-04T09:49:59.175533Z",
     "iopub.status.idle": "2022-09-04T09:49:59.214130Z",
     "shell.execute_reply": "2022-09-04T09:49:59.213140Z",
     "shell.execute_reply.started": "2022-09-04T09:49:59.176617Z"
    }
   },
   "outputs": [
    {
     "data": {
      "text/plain": [
       "array(['Turbine_14', 'Turbine_19', 'Turbine_120', 'Turbine_158',\n",
       "       'Turbine_13', 'Turbine_139', 'Turbine_105', 'Turbine_20',\n",
       "       'Turbine_103', 'Turbine_10', 'Turbine_01', 'Turbine_18',\n",
       "       'Turbine_97', 'Turbine_123', 'Turbine_15', 'Turbine_108'],\n",
       "      dtype=object)"
      ]
     },
     "execution_count": 20,
     "metadata": {},
     "output_type": "execute_result"
    }
   ],
   "source": [
    "test.turbine_id.unique()"
   ]
  },
  {
   "cell_type": "code",
   "execution_count": 21,
   "metadata": {
    "execution": {
     "iopub.execute_input": "2022-09-04T09:50:00.563072Z",
     "iopub.status.busy": "2022-09-04T09:50:00.562396Z",
     "iopub.status.idle": "2022-09-04T09:50:00.664240Z",
     "shell.execute_reply": "2022-09-04T09:50:00.663034Z",
     "shell.execute_reply.started": "2022-09-04T09:50:00.563029Z"
    }
   },
   "outputs": [],
   "source": [
    "encoded = train.groupby('turbine_id')['Target'].mean()"
   ]
  },
  {
   "cell_type": "code",
   "execution_count": 22,
   "metadata": {
    "execution": {
     "iopub.execute_input": "2022-09-04T09:50:02.869007Z",
     "iopub.status.busy": "2022-09-04T09:50:02.867811Z",
     "iopub.status.idle": "2022-09-04T09:50:02.960831Z",
     "shell.execute_reply": "2022-09-04T09:50:02.959886Z",
     "shell.execute_reply.started": "2022-09-04T09:50:02.868962Z"
    }
   },
   "outputs": [],
   "source": [
    "# Map the Train and Test\n",
    "new_train['turbine_id'] = train.turbine_id.map(encoded)\n",
    "test['turbine_id'] = test.turbine_id.map(encoded)"
   ]
  },
  {
   "cell_type": "code",
   "execution_count": 23,
   "metadata": {
    "execution": {
     "iopub.execute_input": "2022-09-04T09:50:04.298703Z",
     "iopub.status.busy": "2022-09-04T09:50:04.297875Z",
     "iopub.status.idle": "2022-09-04T09:50:04.331245Z",
     "shell.execute_reply": "2022-09-04T09:50:04.329748Z",
     "shell.execute_reply.started": "2022-09-04T09:50:04.298663Z"
    }
   },
   "outputs": [
    {
     "data": {
      "text/html": [
       "<div>\n",
       "<style scoped>\n",
       "    .dataframe tbody tr th:only-of-type {\n",
       "        vertical-align: middle;\n",
       "    }\n",
       "\n",
       "    .dataframe tbody tr th {\n",
       "        vertical-align: top;\n",
       "    }\n",
       "\n",
       "    .dataframe thead th {\n",
       "        text-align: right;\n",
       "    }\n",
       "</style>\n",
       "<table border=\"1\" class=\"dataframe\">\n",
       "  <thead>\n",
       "    <tr style=\"text-align: right;\">\n",
       "      <th></th>\n",
       "      <th>active_power_calculated_by_converter</th>\n",
       "      <th>active_power_raw</th>\n",
       "      <th>ambient_temperature</th>\n",
       "      <th>generator_speed</th>\n",
       "      <th>generator_winding_temp_max</th>\n",
       "      <th>grid_power10min_average</th>\n",
       "      <th>nc1_inside_temp</th>\n",
       "      <th>nacelle_temp</th>\n",
       "      <th>reactice_power_calculated_by_converter</th>\n",
       "      <th>reactive_power</th>\n",
       "      <th>...</th>\n",
       "      <th>wind_speed_turbulence</th>\n",
       "      <th>day</th>\n",
       "      <th>month</th>\n",
       "      <th>hour</th>\n",
       "      <th>minute</th>\n",
       "      <th>weekday</th>\n",
       "      <th>diff_active_power</th>\n",
       "      <th>diff_nacelle</th>\n",
       "      <th>diff_react</th>\n",
       "      <th>turbine_id</th>\n",
       "    </tr>\n",
       "  </thead>\n",
       "  <tbody>\n",
       "    <tr>\n",
       "      <th>0</th>\n",
       "      <td>6.705194</td>\n",
       "      <td>6.727333</td>\n",
       "      <td>3.456139</td>\n",
       "      <td>7.055845</td>\n",
       "      <td>4.188961</td>\n",
       "      <td>6.822085</td>\n",
       "      <td>3.462041</td>\n",
       "      <td>3.450137</td>\n",
       "      <td>4.952000</td>\n",
       "      <td>5.108980</td>\n",
       "      <td>...</td>\n",
       "      <td>-0.608656</td>\n",
       "      <td>2.944439</td>\n",
       "      <td>0.693147</td>\n",
       "      <td>2.995732</td>\n",
       "      <td>2.890372</td>\n",
       "      <td>1.386294</td>\n",
       "      <td>2.905832</td>\n",
       "      <td>-13.815511</td>\n",
       "      <td>3.179880</td>\n",
       "      <td>46.549006</td>\n",
       "    </tr>\n",
       "    <tr>\n",
       "      <th>1</th>\n",
       "      <td>6.038128</td>\n",
       "      <td>6.042754</td>\n",
       "      <td>2.556836</td>\n",
       "      <td>6.833837</td>\n",
       "      <td>4.087174</td>\n",
       "      <td>6.099319</td>\n",
       "      <td>3.478890</td>\n",
       "      <td>3.489079</td>\n",
       "      <td>4.490729</td>\n",
       "      <td>4.734752</td>\n",
       "      <td>...</td>\n",
       "      <td>-0.757086</td>\n",
       "      <td>3.295837</td>\n",
       "      <td>1.386294</td>\n",
       "      <td>1.386294</td>\n",
       "      <td>4.007333</td>\n",
       "      <td>0.000000</td>\n",
       "      <td>0.664256</td>\n",
       "      <td>-1.102424</td>\n",
       "      <td>3.204727</td>\n",
       "      <td>45.178387</td>\n",
       "    </tr>\n",
       "    <tr>\n",
       "      <th>2</th>\n",
       "      <td>7.172832</td>\n",
       "      <td>7.198607</td>\n",
       "      <td>2.812313</td>\n",
       "      <td>7.091093</td>\n",
       "      <td>4.115298</td>\n",
       "      <td>7.218702</td>\n",
       "      <td>2.437714</td>\n",
       "      <td>2.908702</td>\n",
       "      <td>5.440781</td>\n",
       "      <td>5.639963</td>\n",
       "      <td>...</td>\n",
       "      <td>-0.474304</td>\n",
       "      <td>3.218876</td>\n",
       "      <td>0.000000</td>\n",
       "      <td>1.791759</td>\n",
       "      <td>3.258097</td>\n",
       "      <td>-13.815511</td>\n",
       "      <td>3.527407</td>\n",
       "      <td>1.929510</td>\n",
       "      <td>3.928486</td>\n",
       "      <td>46.585878</td>\n",
       "    </tr>\n",
       "    <tr>\n",
       "      <th>3</th>\n",
       "      <td>4.118954</td>\n",
       "      <td>3.979327</td>\n",
       "      <td>3.345971</td>\n",
       "      <td>6.646139</td>\n",
       "      <td>3.705598</td>\n",
       "      <td>2.661999</td>\n",
       "      <td>3.533780</td>\n",
       "      <td>3.486240</td>\n",
       "      <td>4.192847</td>\n",
       "      <td>4.317722</td>\n",
       "      <td>...</td>\n",
       "      <td>-0.273491</td>\n",
       "      <td>3.401197</td>\n",
       "      <td>2.302585</td>\n",
       "      <td>1.098612</td>\n",
       "      <td>3.850148</td>\n",
       "      <td>1.609438</td>\n",
       "      <td>-13.815511</td>\n",
       "      <td>-13.815511</td>\n",
       "      <td>2.175492</td>\n",
       "      <td>46.388378</td>\n",
       "    </tr>\n",
       "    <tr>\n",
       "      <th>4</th>\n",
       "      <td>6.386061</td>\n",
       "      <td>6.416175</td>\n",
       "      <td>3.450607</td>\n",
       "      <td>6.953605</td>\n",
       "      <td>4.164209</td>\n",
       "      <td>6.395295</td>\n",
       "      <td>3.478331</td>\n",
       "      <td>3.448920</td>\n",
       "      <td>4.921177</td>\n",
       "      <td>5.076438</td>\n",
       "      <td>...</td>\n",
       "      <td>-1.061119</td>\n",
       "      <td>2.708050</td>\n",
       "      <td>1.098612</td>\n",
       "      <td>-13.815511</td>\n",
       "      <td>3.663562</td>\n",
       "      <td>-13.815511</td>\n",
       "      <td>2.898381</td>\n",
       "      <td>-13.815511</td>\n",
       "      <td>3.137166</td>\n",
       "      <td>49.288458</td>\n",
       "    </tr>\n",
       "  </tbody>\n",
       "</table>\n",
       "<p>5 rows × 22 columns</p>\n",
       "</div>"
      ],
      "text/plain": [
       "   active_power_calculated_by_converter  active_power_raw  \\\n",
       "0                              6.705194          6.727333   \n",
       "1                              6.038128          6.042754   \n",
       "2                              7.172832          7.198607   \n",
       "3                              4.118954          3.979327   \n",
       "4                              6.386061          6.416175   \n",
       "\n",
       "   ambient_temperature  generator_speed  generator_winding_temp_max  \\\n",
       "0             3.456139         7.055845                    4.188961   \n",
       "1             2.556836         6.833837                    4.087174   \n",
       "2             2.812313         7.091093                    4.115298   \n",
       "3             3.345971         6.646139                    3.705598   \n",
       "4             3.450607         6.953605                    4.164209   \n",
       "\n",
       "   grid_power10min_average  nc1_inside_temp  nacelle_temp  \\\n",
       "0                 6.822085         3.462041      3.450137   \n",
       "1                 6.099319         3.478890      3.489079   \n",
       "2                 7.218702         2.437714      2.908702   \n",
       "3                 2.661999         3.533780      3.486240   \n",
       "4                 6.395295         3.478331      3.448920   \n",
       "\n",
       "   reactice_power_calculated_by_converter  reactive_power  ...  \\\n",
       "0                                4.952000        5.108980  ...   \n",
       "1                                4.490729        4.734752  ...   \n",
       "2                                5.440781        5.639963  ...   \n",
       "3                                4.192847        4.317722  ...   \n",
       "4                                4.921177        5.076438  ...   \n",
       "\n",
       "   wind_speed_turbulence       day     month       hour    minute    weekday  \\\n",
       "0              -0.608656  2.944439  0.693147   2.995732  2.890372   1.386294   \n",
       "1              -0.757086  3.295837  1.386294   1.386294  4.007333   0.000000   \n",
       "2              -0.474304  3.218876  0.000000   1.791759  3.258097 -13.815511   \n",
       "3              -0.273491  3.401197  2.302585   1.098612  3.850148   1.609438   \n",
       "4              -1.061119  2.708050  1.098612 -13.815511  3.663562 -13.815511   \n",
       "\n",
       "   diff_active_power  diff_nacelle  diff_react  turbine_id  \n",
       "0           2.905832    -13.815511    3.179880   46.549006  \n",
       "1           0.664256     -1.102424    3.204727   45.178387  \n",
       "2           3.527407      1.929510    3.928486   46.585878  \n",
       "3         -13.815511    -13.815511    2.175492   46.388378  \n",
       "4           2.898381    -13.815511    3.137166   49.288458  \n",
       "\n",
       "[5 rows x 22 columns]"
      ]
     },
     "execution_count": 23,
     "metadata": {},
     "output_type": "execute_result"
    }
   ],
   "source": [
    "new_train.head()"
   ]
  },
  {
   "cell_type": "markdown",
   "metadata": {},
   "source": [
    "# Feature Selection"
   ]
  },
  {
   "cell_type": "code",
   "execution_count": 24,
   "metadata": {
    "execution": {
     "iopub.execute_input": "2022-09-04T09:50:06.834016Z",
     "iopub.status.busy": "2022-09-04T09:50:06.832881Z",
     "iopub.status.idle": "2022-09-04T09:50:06.850501Z",
     "shell.execute_reply": "2022-09-04T09:50:06.849632Z",
     "shell.execute_reply.started": "2022-09-04T09:50:06.833943Z"
    }
   },
   "outputs": [],
   "source": [
    "from sklearn.feature_selection import RFECV\n",
    "from sklearn.tree import DecisionTreeRegressor\n",
    "dtree = DecisionTreeRegressor()"
   ]
  },
  {
   "cell_type": "code",
   "execution_count": 25,
   "metadata": {
    "execution": {
     "iopub.execute_input": "2022-09-04T09:50:08.059553Z",
     "iopub.status.busy": "2022-09-04T09:50:08.058813Z",
     "iopub.status.idle": "2022-09-04T09:50:08.064808Z",
     "shell.execute_reply": "2022-09-04T09:50:08.064008Z",
     "shell.execute_reply.started": "2022-09-04T09:50:08.059515Z"
    }
   },
   "outputs": [],
   "source": [
    "selector = RFECV(estimator = dtree, step = 1,\n",
    "                cv = 5, verbose = 5, n_jobs = -1,\n",
    "                scoring = 'neg_mean_absolute_percentage_error',\n",
    "                min_features_to_select=5)"
   ]
  },
  {
   "cell_type": "code",
   "execution_count": 26,
   "metadata": {
    "execution": {
     "iopub.status.busy": "2022-09-04T09:59:53.860562Z",
     "iopub.status.idle": "2022-09-04T09:59:53.861502Z",
     "shell.execute_reply": "2022-09-04T09:59:53.861211Z",
     "shell.execute_reply.started": "2022-09-04T09:59:53.861180Z"
    }
   },
   "outputs": [],
   "source": [
    "# Fit the model and find out the optimal feature\n",
    "# selector.fit(new_train, target)\n",
    "\n",
    "# feat_names = list(selector.get_feature_names_out())\n",
    "# print(feat_names)"
   ]
  },
  {
   "cell_type": "code",
   "execution_count": 27,
   "metadata": {
    "execution": {
     "iopub.execute_input": "2022-09-04T09:59:57.335823Z",
     "iopub.status.busy": "2022-09-04T09:59:57.335368Z",
     "iopub.status.idle": "2022-09-04T09:59:57.407728Z",
     "shell.execute_reply": "2022-09-04T09:59:57.406803Z",
     "shell.execute_reply.started": "2022-09-04T09:59:57.335771Z"
    }
   },
   "outputs": [],
   "source": [
    "rfetrain = new_train.loc[:, ['nacelle_temp', 'ambient_temperature', 'turbine_id',\n",
    "                 'hour', 'day', 'month']]\n",
    "\n",
    "rfetest = test.loc[:, ['nacelle_temp', 'ambient_temperature', 'turbine_id',\n",
    "                 'hour', 'day', 'month']]"
   ]
  },
  {
   "cell_type": "markdown",
   "metadata": {},
   "source": [
    "### Ensembles\n",
    "* split the data in train and test\n",
    "* build my models- ExtraTRee, CatBoost, XGB, Lightgbm and Rf\n",
    "* Take the Ensemble and find the Median Predicted Value and Submit it."
   ]
  },
  {
   "cell_type": "code",
   "execution_count": 28,
   "metadata": {
    "execution": {
     "iopub.execute_input": "2022-09-04T10:00:05.346331Z",
     "iopub.status.busy": "2022-09-04T10:00:05.345834Z",
     "iopub.status.idle": "2022-09-04T10:00:05.355958Z",
     "shell.execute_reply": "2022-09-04T10:00:05.354635Z",
     "shell.execute_reply.started": "2022-09-04T10:00:05.346292Z"
    }
   },
   "outputs": [],
   "source": [
    "rf= RandomForestRegressor(random_state= 42)\n",
    "etr = ExtraTreesRegressor(n_estimators=200, random_state=123)\n",
    "lgb = LGBMRegressor(random_state= 494)\n",
    "xgb = XGBRegressor(random_state= 500)\n",
    "cbr = cboost.CatBoostRegressor(random_state= 0)"
   ]
  },
  {
   "cell_type": "code",
   "execution_count": 29,
   "metadata": {
    "execution": {
     "iopub.execute_input": "2022-09-04T10:00:08.995951Z",
     "iopub.status.busy": "2022-09-04T10:00:08.995401Z",
     "iopub.status.idle": "2022-09-04T10:00:09.186431Z",
     "shell.execute_reply": "2022-09-04T10:00:09.185010Z",
     "shell.execute_reply.started": "2022-09-04T10:00:08.995904Z"
    }
   },
   "outputs": [],
   "source": [
    "from sklearn.model_selection import train_test_split\n",
    "xtrain, xtest, ytrain, ytest = train_test_split(rfetrain, target, test_size= 0.20, random_state=598)"
   ]
  },
  {
   "cell_type": "code",
   "execution_count": 30,
   "metadata": {},
   "outputs": [
    {
     "data": {
      "text/html": [
       "<style>#sk-container-id-1 {color: black;background-color: white;}#sk-container-id-1 pre{padding: 0;}#sk-container-id-1 div.sk-toggleable {background-color: white;}#sk-container-id-1 label.sk-toggleable__label {cursor: pointer;display: block;width: 100%;margin-bottom: 0;padding: 0.3em;box-sizing: border-box;text-align: center;}#sk-container-id-1 label.sk-toggleable__label-arrow:before {content: \"▸\";float: left;margin-right: 0.25em;color: #696969;}#sk-container-id-1 label.sk-toggleable__label-arrow:hover:before {color: black;}#sk-container-id-1 div.sk-estimator:hover label.sk-toggleable__label-arrow:before {color: black;}#sk-container-id-1 div.sk-toggleable__content {max-height: 0;max-width: 0;overflow: hidden;text-align: left;background-color: #f0f8ff;}#sk-container-id-1 div.sk-toggleable__content pre {margin: 0.2em;color: black;border-radius: 0.25em;background-color: #f0f8ff;}#sk-container-id-1 input.sk-toggleable__control:checked~div.sk-toggleable__content {max-height: 200px;max-width: 100%;overflow: auto;}#sk-container-id-1 input.sk-toggleable__control:checked~label.sk-toggleable__label-arrow:before {content: \"▾\";}#sk-container-id-1 div.sk-estimator input.sk-toggleable__control:checked~label.sk-toggleable__label {background-color: #d4ebff;}#sk-container-id-1 div.sk-label input.sk-toggleable__control:checked~label.sk-toggleable__label {background-color: #d4ebff;}#sk-container-id-1 input.sk-hidden--visually {border: 0;clip: rect(1px 1px 1px 1px);clip: rect(1px, 1px, 1px, 1px);height: 1px;margin: -1px;overflow: hidden;padding: 0;position: absolute;width: 1px;}#sk-container-id-1 div.sk-estimator {font-family: monospace;background-color: #f0f8ff;border: 1px dotted black;border-radius: 0.25em;box-sizing: border-box;margin-bottom: 0.5em;}#sk-container-id-1 div.sk-estimator:hover {background-color: #d4ebff;}#sk-container-id-1 div.sk-parallel-item::after {content: \"\";width: 100%;border-bottom: 1px solid gray;flex-grow: 1;}#sk-container-id-1 div.sk-label:hover label.sk-toggleable__label {background-color: #d4ebff;}#sk-container-id-1 div.sk-serial::before {content: \"\";position: absolute;border-left: 1px solid gray;box-sizing: border-box;top: 0;bottom: 0;left: 50%;z-index: 0;}#sk-container-id-1 div.sk-serial {display: flex;flex-direction: column;align-items: center;background-color: white;padding-right: 0.2em;padding-left: 0.2em;position: relative;}#sk-container-id-1 div.sk-item {position: relative;z-index: 1;}#sk-container-id-1 div.sk-parallel {display: flex;align-items: stretch;justify-content: center;background-color: white;position: relative;}#sk-container-id-1 div.sk-item::before, #sk-container-id-1 div.sk-parallel-item::before {content: \"\";position: absolute;border-left: 1px solid gray;box-sizing: border-box;top: 0;bottom: 0;left: 50%;z-index: -1;}#sk-container-id-1 div.sk-parallel-item {display: flex;flex-direction: column;z-index: 1;position: relative;background-color: white;}#sk-container-id-1 div.sk-parallel-item:first-child::after {align-self: flex-end;width: 50%;}#sk-container-id-1 div.sk-parallel-item:last-child::after {align-self: flex-start;width: 50%;}#sk-container-id-1 div.sk-parallel-item:only-child::after {width: 0;}#sk-container-id-1 div.sk-dashed-wrapped {border: 1px dashed gray;margin: 0 0.4em 0.5em 0.4em;box-sizing: border-box;padding-bottom: 0.4em;background-color: white;}#sk-container-id-1 div.sk-label label {font-family: monospace;font-weight: bold;display: inline-block;line-height: 1.2em;}#sk-container-id-1 div.sk-label-container {text-align: center;}#sk-container-id-1 div.sk-container {/* jupyter's `normalize.less` sets `[hidden] { display: none; }` but bootstrap.min.css set `[hidden] { display: none !important; }` so we also need the `!important` here to be able to override the default hidden behavior on the sphinx rendered scikit-learn.org. See: https://github.com/scikit-learn/scikit-learn/issues/21755 */display: inline-block !important;position: relative;}#sk-container-id-1 div.sk-text-repr-fallback {display: none;}</style><div id=\"sk-container-id-1\" class=\"sk-top-container\"><div class=\"sk-text-repr-fallback\"><pre>LGBMRegressor(random_state=494)</pre><b>In a Jupyter environment, please rerun this cell to show the HTML representation or trust the notebook. <br />On GitHub, the HTML representation is unable to render, please try loading this page with nbviewer.org.</b></div><div class=\"sk-container\" hidden><div class=\"sk-item\"><div class=\"sk-estimator sk-toggleable\"><input class=\"sk-toggleable__control sk-hidden--visually\" id=\"sk-estimator-id-1\" type=\"checkbox\" checked><label for=\"sk-estimator-id-1\" class=\"sk-toggleable__label sk-toggleable__label-arrow\">LGBMRegressor</label><div class=\"sk-toggleable__content\"><pre>LGBMRegressor(random_state=494)</pre></div></div></div></div></div>"
      ],
      "text/plain": [
       "LGBMRegressor(random_state=494)"
      ]
     },
     "execution_count": 30,
     "metadata": {},
     "output_type": "execute_result"
    }
   ],
   "source": [
    "# Fit and Predict\n",
    "lgb.fit(xtrain, ytrain)"
   ]
  },
  {
   "cell_type": "code",
   "execution_count": 31,
   "metadata": {},
   "outputs": [],
   "source": [
    "train_pred_lgb = lgb.predict(xtrain)"
   ]
  },
  {
   "cell_type": "code",
   "execution_count": 35,
   "metadata": {},
   "outputs": [],
   "source": [
    "from sklearn.metrics import mean_absolute_percentage_error"
   ]
  },
  {
   "cell_type": "code",
   "execution_count": 37,
   "metadata": {},
   "outputs": [
    {
     "name": "stdout",
     "output_type": "stream",
     "text": [
      "MAPE TrainingData=  0.9328572685934866\n"
     ]
    }
   ],
   "source": [
    "MAPE_train = mean_absolute_percentage_error(ytrain, train_pred_lgb)\n",
    "\n",
    "print('MAPE TrainingData= ', MAPE_train)"
   ]
  },
  {
   "cell_type": "markdown",
   "metadata": {},
   "source": [
    "# Random Forrest"
   ]
  },
  {
   "cell_type": "code",
   "execution_count": 38,
   "metadata": {},
   "outputs": [
    {
     "data": {
      "text/html": [
       "<style>#sk-container-id-2 {color: black;background-color: white;}#sk-container-id-2 pre{padding: 0;}#sk-container-id-2 div.sk-toggleable {background-color: white;}#sk-container-id-2 label.sk-toggleable__label {cursor: pointer;display: block;width: 100%;margin-bottom: 0;padding: 0.3em;box-sizing: border-box;text-align: center;}#sk-container-id-2 label.sk-toggleable__label-arrow:before {content: \"▸\";float: left;margin-right: 0.25em;color: #696969;}#sk-container-id-2 label.sk-toggleable__label-arrow:hover:before {color: black;}#sk-container-id-2 div.sk-estimator:hover label.sk-toggleable__label-arrow:before {color: black;}#sk-container-id-2 div.sk-toggleable__content {max-height: 0;max-width: 0;overflow: hidden;text-align: left;background-color: #f0f8ff;}#sk-container-id-2 div.sk-toggleable__content pre {margin: 0.2em;color: black;border-radius: 0.25em;background-color: #f0f8ff;}#sk-container-id-2 input.sk-toggleable__control:checked~div.sk-toggleable__content {max-height: 200px;max-width: 100%;overflow: auto;}#sk-container-id-2 input.sk-toggleable__control:checked~label.sk-toggleable__label-arrow:before {content: \"▾\";}#sk-container-id-2 div.sk-estimator input.sk-toggleable__control:checked~label.sk-toggleable__label {background-color: #d4ebff;}#sk-container-id-2 div.sk-label input.sk-toggleable__control:checked~label.sk-toggleable__label {background-color: #d4ebff;}#sk-container-id-2 input.sk-hidden--visually {border: 0;clip: rect(1px 1px 1px 1px);clip: rect(1px, 1px, 1px, 1px);height: 1px;margin: -1px;overflow: hidden;padding: 0;position: absolute;width: 1px;}#sk-container-id-2 div.sk-estimator {font-family: monospace;background-color: #f0f8ff;border: 1px dotted black;border-radius: 0.25em;box-sizing: border-box;margin-bottom: 0.5em;}#sk-container-id-2 div.sk-estimator:hover {background-color: #d4ebff;}#sk-container-id-2 div.sk-parallel-item::after {content: \"\";width: 100%;border-bottom: 1px solid gray;flex-grow: 1;}#sk-container-id-2 div.sk-label:hover label.sk-toggleable__label {background-color: #d4ebff;}#sk-container-id-2 div.sk-serial::before {content: \"\";position: absolute;border-left: 1px solid gray;box-sizing: border-box;top: 0;bottom: 0;left: 50%;z-index: 0;}#sk-container-id-2 div.sk-serial {display: flex;flex-direction: column;align-items: center;background-color: white;padding-right: 0.2em;padding-left: 0.2em;position: relative;}#sk-container-id-2 div.sk-item {position: relative;z-index: 1;}#sk-container-id-2 div.sk-parallel {display: flex;align-items: stretch;justify-content: center;background-color: white;position: relative;}#sk-container-id-2 div.sk-item::before, #sk-container-id-2 div.sk-parallel-item::before {content: \"\";position: absolute;border-left: 1px solid gray;box-sizing: border-box;top: 0;bottom: 0;left: 50%;z-index: -1;}#sk-container-id-2 div.sk-parallel-item {display: flex;flex-direction: column;z-index: 1;position: relative;background-color: white;}#sk-container-id-2 div.sk-parallel-item:first-child::after {align-self: flex-end;width: 50%;}#sk-container-id-2 div.sk-parallel-item:last-child::after {align-self: flex-start;width: 50%;}#sk-container-id-2 div.sk-parallel-item:only-child::after {width: 0;}#sk-container-id-2 div.sk-dashed-wrapped {border: 1px dashed gray;margin: 0 0.4em 0.5em 0.4em;box-sizing: border-box;padding-bottom: 0.4em;background-color: white;}#sk-container-id-2 div.sk-label label {font-family: monospace;font-weight: bold;display: inline-block;line-height: 1.2em;}#sk-container-id-2 div.sk-label-container {text-align: center;}#sk-container-id-2 div.sk-container {/* jupyter's `normalize.less` sets `[hidden] { display: none; }` but bootstrap.min.css set `[hidden] { display: none !important; }` so we also need the `!important` here to be able to override the default hidden behavior on the sphinx rendered scikit-learn.org. See: https://github.com/scikit-learn/scikit-learn/issues/21755 */display: inline-block !important;position: relative;}#sk-container-id-2 div.sk-text-repr-fallback {display: none;}</style><div id=\"sk-container-id-2\" class=\"sk-top-container\"><div class=\"sk-text-repr-fallback\"><pre>RandomForestRegressor(random_state=42)</pre><b>In a Jupyter environment, please rerun this cell to show the HTML representation or trust the notebook. <br />On GitHub, the HTML representation is unable to render, please try loading this page with nbviewer.org.</b></div><div class=\"sk-container\" hidden><div class=\"sk-item\"><div class=\"sk-estimator sk-toggleable\"><input class=\"sk-toggleable__control sk-hidden--visually\" id=\"sk-estimator-id-2\" type=\"checkbox\" checked><label for=\"sk-estimator-id-2\" class=\"sk-toggleable__label sk-toggleable__label-arrow\">RandomForestRegressor</label><div class=\"sk-toggleable__content\"><pre>RandomForestRegressor(random_state=42)</pre></div></div></div></div></div>"
      ],
      "text/plain": [
       "RandomForestRegressor(random_state=42)"
      ]
     },
     "execution_count": 38,
     "metadata": {},
     "output_type": "execute_result"
    }
   ],
   "source": [
    "rf.fit(xtrain, ytrain)"
   ]
  },
  {
   "cell_type": "code",
   "execution_count": 40,
   "metadata": {},
   "outputs": [],
   "source": [
    "train_pred_rf = rf.predict(xtrain)"
   ]
  },
  {
   "cell_type": "code",
   "execution_count": 41,
   "metadata": {},
   "outputs": [
    {
     "name": "stdout",
     "output_type": "stream",
     "text": [
      "MAPE TrainingData=  0.001422203403447506\n"
     ]
    }
   ],
   "source": [
    "MAPE_train_rf = mean_absolute_percentage_error(ytrain, train_pred_rf)\n",
    "\n",
    "print('MAPE TrainingData= ', MAPE_train_rf)"
   ]
  },
  {
   "cell_type": "code",
   "execution_count": 42,
   "metadata": {},
   "outputs": [],
   "source": [
    "# On test data\n",
    "\n",
    "test_pred_rf = rf.predict(rfetest)"
   ]
  },
  {
   "cell_type": "code",
   "execution_count": 43,
   "metadata": {},
   "outputs": [],
   "source": [
    "\n",
    "submission = pd.DataFrame({'Target':test_pred_rf})\n",
    "submission.to_csv('Final_rf.csv', index= False)"
   ]
  },
  {
   "cell_type": "markdown",
   "metadata": {},
   "source": [
    "### Summary of the Models\n",
    "\n",
    "* Taking Date, Time and Creating the New Features gave us 0.0074\n",
    "* Mean Encodig + Log Transformation on Features + Date ,Time & RFE - 0.00316\n",
    "\n",
    "#### Note: In both the Models, only Random Forest has been able to secure a very good score\n",
    "\n",
    "#### Next Steps\n",
    "* One can try Parameter Tuning of the Random Forest Model\n",
    "* One can xplore the LIghtGBM Model\n"
   ]
  }
 ],
 "metadata": {
  "kernelspec": {
   "display_name": "Python 3 (ipykernel)",
   "language": "python",
   "name": "python3"
  },
  "language_info": {
   "codemirror_mode": {
    "name": "ipython",
    "version": 3
   },
   "file_extension": ".py",
   "mimetype": "text/x-python",
   "name": "python",
   "nbconvert_exporter": "python",
   "pygments_lexer": "ipython3",
   "version": "3.9.7"
  }
 },
 "nbformat": 4,
 "nbformat_minor": 4
}
.
